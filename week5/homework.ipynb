{
 "cells": [
  {
   "cell_type": "code",
   "execution_count": 1,
   "id": "7dcdea99",
   "metadata": {},
   "outputs": [],
   "source": [
    "import pyspark\n",
    "from pyspark.sql import SparkSession\n",
    "from pyspark.sql import types"
   ]
  },
  {
   "cell_type": "code",
   "execution_count": 13,
   "id": "725689a7",
   "metadata": {},
   "outputs": [],
   "source": [
    "spark = SparkSession.builder \\\n",
    "    .master(\"local[*]\") \\\n",
    "    .appName('test') \\\n",
    "    .getOrCreate()"
   ]
  },
  {
   "cell_type": "code",
   "execution_count": 3,
   "id": "f6ec0bfc",
   "metadata": {},
   "outputs": [],
   "source": [
    "fhv_schema = types.StructType([\n",
    "    types.StructField('dispatching_base_num', types.IntegerType(), True), \n",
    "    types.StructField('pickup_datetime', types.TimestampType(), True), \n",
    "    types.StructField('dropOff_datetime', types.TimestampType(), True), \n",
    "    types.StructField('PUlocationID', types.IntegerType(), True), \n",
    "    types.StructField('DOlocationID', types.IntegerType(), True), \n",
    "    types.StructField('SR_Flag', types.IntegerType(), True), \n",
    "    types.StructField('Affiliated_base_number', types.IntegerType(), True)])"
   ]
  },
  {
   "cell_type": "code",
   "execution_count": 14,
   "id": "6b40624d",
   "metadata": {},
   "outputs": [],
   "source": [
    "input_path = f'data/raw/fhv/2019/10/fhv_tripdata_2019_10.csv.gz'\n",
    "output_path = f'data/pq/fhv/2019/10/'\n",
    "\n",
    "df_fhv = spark.read \\\n",
    "        .option(\"header\", \"true\") \\\n",
    "        .schema(fhv_schema) \\\n",
    "        .csv(input_path)"
   ]
  },
  {
   "cell_type": "code",
   "execution_count": 5,
   "id": "a545e8ec",
   "metadata": {},
   "outputs": [
    {
     "name": "stderr",
     "output_type": "stream",
     "text": [
      "                                                                                \r"
     ]
    }
   ],
   "source": [
    "df_fhv \\\n",
    "    .repartition(6) \\\n",
    "    .write.mode(\"overwrite\").parquet(output_path)"
   ]
  },
  {
   "cell_type": "code",
   "execution_count": 6,
   "id": "1861e943",
   "metadata": {},
   "outputs": [
    {
     "data": {
      "text/plain": [
       "StructType([StructField('dispatching_base_num', IntegerType(), True), StructField('pickup_datetime', TimestampType(), True), StructField('dropOff_datetime', TimestampType(), True), StructField('PUlocationID', IntegerType(), True), StructField('DOlocationID', IntegerType(), True), StructField('SR_Flag', IntegerType(), True), StructField('Affiliated_base_number', IntegerType(), True)])"
      ]
     },
     "execution_count": 6,
     "metadata": {},
     "output_type": "execute_result"
    }
   ],
   "source": [
    "df_fhv.schema"
   ]
  },
  {
   "cell_type": "code",
   "execution_count": 7,
   "id": "0cdd7c36",
   "metadata": {},
   "outputs": [
    {
     "name": "stderr",
     "output_type": "stream",
     "text": [
      "/home/forg/spark/spark-3.3.2-bin-hadoop3/python/pyspark/sql/dataframe.py:229: FutureWarning: Deprecated in 2.0, use createOrReplaceTempView instead.\n",
      "  warnings.warn(\"Deprecated in 2.0, use createOrReplaceTempView instead.\", FutureWarning)\n"
     ]
    }
   ],
   "source": [
    "df_fhv.registerTempTable(\"trips_data\")"
   ]
  },
  {
   "cell_type": "code",
   "execution_count": 8,
   "id": "6f9d3ef8",
   "metadata": {},
   "outputs": [
    {
     "name": "stderr",
     "output_type": "stream",
     "text": [
      "\r",
      "[Stage 3:>                                                          (0 + 1) / 1]\r"
     ]
    },
    {
     "name": "stdout",
     "output_type": "stream",
     "text": [
      "+--------+\n",
      "|count(1)|\n",
      "+--------+\n",
      "|   62610|\n",
      "+--------+\n",
      "\n"
     ]
    },
    {
     "name": "stderr",
     "output_type": "stream",
     "text": [
      "\r",
      "                                                                                \r"
     ]
    }
   ],
   "source": [
    "spark.sql(\"\"\"\n",
    "SELECT \n",
    "    COUNT(1)\n",
    "FROM\n",
    "    trips_data\n",
    "WHERE pickup_datetime LIKE '2019-10-15%'\n",
    "\"\"\").show()"
   ]
  },
  {
   "cell_type": "code",
   "execution_count": 9,
   "id": "171e4e9e",
   "metadata": {},
   "outputs": [
    {
     "name": "stderr",
     "output_type": "stream",
     "text": [
      "\r",
      "[Stage 6:>                                                          (0 + 1) / 1]\r"
     ]
    },
    {
     "name": "stdout",
     "output_type": "stream",
     "text": [
      "+--------------------+\n",
      "|max(seconds_between)|\n",
      "+--------------------+\n",
      "|            631152.5|\n",
      "+--------------------+\n",
      "\n"
     ]
    },
    {
     "name": "stderr",
     "output_type": "stream",
     "text": [
      "\r",
      "                                                                                \r"
     ]
    }
   ],
   "source": [
    "from pyspark.sql import functions as F\n",
    "\n",
    "df_fhv \\\n",
    "    .withColumn(\"unix_timestamp_pickup_datetime\", F.unix_timestamp(\"pickup_datetime\")) \\\n",
    "    .withColumn(\"unix_timestamp_dropOff_datetime\", F.unix_timestamp(\"dropOff_datetime\")) \\\n",
    "    .withColumn(\"seconds_between\", (F.unix_timestamp(\"dropOff_datetime\") - F.unix_timestamp(\"pickup_datetime\"))/3600) \\\n",
    "    .registerTempTable(\"trips_data\")\n",
    "\n",
    "spark.sql(\"\"\"\n",
    "SELECT \n",
    "    MAX(seconds_between)\n",
    "FROM\n",
    "    trips_data\n",
    "\"\"\").show()"
   ]
  },
  {
   "cell_type": "code",
   "execution_count": 15,
   "id": "ad36631e",
   "metadata": {},
   "outputs": [],
   "source": [
    "input_path = f'data/raw/taxi_zone_lookup.csv'\n",
    "\n",
    "df_zones = spark.read \\\n",
    "        .option(\"header\", \"true\") \\\n",
    "        .csv(input_path)"
   ]
  },
  {
   "cell_type": "code",
   "execution_count": 19,
   "id": "36550b62",
   "metadata": {},
   "outputs": [],
   "source": [
    "df_fhv.registerTempTable(\"trips_data\")\n",
    "\n",
    "df_zones.registerTempTable(\"zones_data\")"
   ]
  },
  {
   "cell_type": "code",
   "execution_count": 17,
   "id": "eb309080",
   "metadata": {},
   "outputs": [
    {
     "name": "stdout",
     "output_type": "stream",
     "text": [
      "+--------------------+-------------------+-------------------+------------+------------+-------+----------------------+\n",
      "|dispatching_base_num|    pickup_datetime|   dropOff_datetime|PUlocationID|DOlocationID|SR_Flag|Affiliated_base_number|\n",
      "+--------------------+-------------------+-------------------+------------+------------+-------+----------------------+\n",
      "|                null|2019-10-01 00:23:00|2019-10-01 00:35:00|         264|         264|   null|                  null|\n",
      "|                null|2019-10-01 00:11:29|2019-10-01 00:13:22|         264|         264|   null|                  null|\n",
      "|                null|2019-10-01 00:11:43|2019-10-01 00:37:20|         264|         264|   null|                  null|\n",
      "|                null|2019-10-01 00:56:29|2019-10-01 00:57:47|         264|         264|   null|                  null|\n",
      "|                null|2019-10-01 00:23:09|2019-10-01 00:28:27|         264|         264|   null|                  null|\n",
      "|                null|2019-10-01 00:00:48|2019-10-01 00:07:12|         129|         129|   null|                  null|\n",
      "|                null|2019-10-01 00:47:23|2019-10-01 00:53:25|          57|          57|   null|                  null|\n",
      "|                null|2019-10-01 00:10:06|2019-10-01 00:19:50|         173|         173|   null|                  null|\n",
      "|                null|2019-10-01 00:51:37|2019-10-01 01:06:14|         226|         226|   null|                  null|\n",
      "|                null|2019-10-01 00:28:23|2019-10-01 00:34:33|          56|          56|   null|                  null|\n",
      "|                null|2019-10-01 00:31:17|2019-10-01 00:51:52|          82|          82|   null|                  null|\n",
      "|                null|2019-10-01 00:07:41|2019-10-01 00:15:23|         264|          71|   null|                  null|\n",
      "|                null|2019-10-01 00:13:38|2019-10-01 00:25:51|         264|          39|   null|                  null|\n",
      "|                null|2019-10-01 00:42:40|2019-10-01 00:53:47|         264|         188|   null|                  null|\n",
      "|                null|2019-10-01 00:58:46|2019-10-01 01:10:11|         264|          91|   null|                  null|\n",
      "|                null|2019-10-01 00:09:49|2019-10-01 00:14:37|         264|          71|   null|                  null|\n",
      "|                null|2019-10-01 00:22:35|2019-10-01 00:36:53|         264|          35|   null|                  null|\n",
      "|                null|2019-10-01 00:54:27|2019-10-01 01:03:37|         264|          61|   null|                  null|\n",
      "|                null|2019-10-01 00:08:12|2019-10-01 00:28:47|         264|         198|   null|                  null|\n",
      "|                null|2019-10-01 00:05:24|2019-10-01 00:53:03|         264|         264|   null|                  null|\n",
      "+--------------------+-------------------+-------------------+------------+------------+-------+----------------------+\n",
      "only showing top 20 rows\n",
      "\n"
     ]
    }
   ],
   "source": [
    "spark.sql(\"\"\"\n",
    "SELECT *\n",
    "FROM trips_data\n",
    "\"\"\").show()"
   ]
  },
  {
   "cell_type": "code",
   "execution_count": 20,
   "id": "bb6d45b5",
   "metadata": {
    "scrolled": true
   },
   "outputs": [
    {
     "name": "stdout",
     "output_type": "stream",
     "text": [
      "+----------+-------------+--------------------+------------+\n",
      "|LocationID|      Borough|                Zone|service_zone|\n",
      "+----------+-------------+--------------------+------------+\n",
      "|         1|          EWR|      Newark Airport|         EWR|\n",
      "|         2|       Queens|         Jamaica Bay|   Boro Zone|\n",
      "|         3|        Bronx|Allerton/Pelham G...|   Boro Zone|\n",
      "|         4|    Manhattan|       Alphabet City| Yellow Zone|\n",
      "|         5|Staten Island|       Arden Heights|   Boro Zone|\n",
      "|         6|Staten Island|Arrochar/Fort Wad...|   Boro Zone|\n",
      "|         7|       Queens|             Astoria|   Boro Zone|\n",
      "|         8|       Queens|        Astoria Park|   Boro Zone|\n",
      "|         9|       Queens|          Auburndale|   Boro Zone|\n",
      "|        10|       Queens|        Baisley Park|   Boro Zone|\n",
      "|        11|     Brooklyn|          Bath Beach|   Boro Zone|\n",
      "|        12|    Manhattan|        Battery Park| Yellow Zone|\n",
      "|        13|    Manhattan|   Battery Park City| Yellow Zone|\n",
      "|        14|     Brooklyn|           Bay Ridge|   Boro Zone|\n",
      "|        15|       Queens|Bay Terrace/Fort ...|   Boro Zone|\n",
      "|        16|       Queens|             Bayside|   Boro Zone|\n",
      "|        17|     Brooklyn|             Bedford|   Boro Zone|\n",
      "|        18|        Bronx|        Bedford Park|   Boro Zone|\n",
      "|        19|       Queens|           Bellerose|   Boro Zone|\n",
      "|        20|        Bronx|             Belmont|   Boro Zone|\n",
      "+----------+-------------+--------------------+------------+\n",
      "only showing top 20 rows\n",
      "\n"
     ]
    }
   ],
   "source": [
    "spark.sql(\"\"\"\n",
    "SELECT *\n",
    "FROM zones_data\n",
    "\"\"\").show()"
   ]
  },
  {
   "cell_type": "code",
   "execution_count": 23,
   "id": "e2550894",
   "metadata": {},
   "outputs": [
    {
     "name": "stderr",
     "output_type": "stream",
     "text": [
      "\r",
      "[Stage 10:>                                                         (0 + 1) / 1]\r"
     ]
    },
    {
     "name": "stdout",
     "output_type": "stream",
     "text": [
      "+--------------------+-----------+\n",
      "|                Zone|trips_count|\n",
      "+--------------------+-----------+\n",
      "|         Jamaica Bay|          1|\n",
      "|Governor's Island...|          2|\n",
      "| Green-Wood Cemetery|          5|\n",
      "|       Broad Channel|          8|\n",
      "|     Highbridge Park|         14|\n",
      "|        Battery Park|         15|\n",
      "|Saint Michaels Ce...|         23|\n",
      "|Breezy Point/Fort...|         25|\n",
      "|Marine Park/Floyd...|         26|\n",
      "|        Astoria Park|         29|\n",
      "|    Inwood Hill Park|         39|\n",
      "|       Willets Point|         47|\n",
      "|Forest Park/Highl...|         53|\n",
      "|  Brooklyn Navy Yard|         57|\n",
      "|        Crotona Park|         62|\n",
      "|        Country Club|         77|\n",
      "|     Freshkills Park|         89|\n",
      "|       Prospect Park|         98|\n",
      "|     Columbia Street|        105|\n",
      "|  South Williamsburg|        110|\n",
      "+--------------------+-----------+\n",
      "only showing top 20 rows\n",
      "\n"
     ]
    },
    {
     "name": "stderr",
     "output_type": "stream",
     "text": [
      "\r",
      "                                                                                \r"
     ]
    }
   ],
   "source": [
    "spark.sql(\"\"\"\n",
    "SELECT\n",
    "    zd.Zone\n",
    "    , COUNT(1) AS trips_count\n",
    "FROM trips_data td \n",
    "INNER JOIN zones_data zd\n",
    "ON td.PUlocationID = zd.LocationID\n",
    "GROUP BY 1\n",
    "ORDER BY 2\n",
    "\"\"\").show()"
   ]
  }
 ],
 "metadata": {
  "kernelspec": {
   "display_name": "Python 3 (ipykernel)",
   "language": "python",
   "name": "python3"
  },
  "language_info": {
   "codemirror_mode": {
    "name": "ipython",
    "version": 3
   },
   "file_extension": ".py",
   "mimetype": "text/x-python",
   "name": "python",
   "nbconvert_exporter": "python",
   "pygments_lexer": "ipython3",
   "version": "3.10.12"
  }
 },
 "nbformat": 4,
 "nbformat_minor": 5
}
